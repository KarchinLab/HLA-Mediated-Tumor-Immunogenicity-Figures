{
 "cells": [
  {
   "cell_type": "code",
   "execution_count": null,
   "metadata": {},
   "outputs": [],
   "source": [
    "%pylab inline"
   ]
  },
  {
   "cell_type": "code",
   "execution_count": null,
   "metadata": {},
   "outputs": [],
   "source": [
    "import numpy as np\n",
    "import pandas as pd\n",
    "import seaborn as sns\n",
    "import matplotlib.pyplot as plt\n",
    "from matplotlib.colors import ListedColormap\n",
    "from sklearn.ensemble import RandomForestClassifier\n",
    "from sklearn import datasets, metrics, model_selection\n",
    "from sklearn.linear_model import LogisticRegression\n",
    "from sklearn.metrics import roc_auc_score\n",
    "from sklearn.metrics import roc_curve, auc\n",
    "from sklearn.preprocessing import label_binarize"
   ]
  },
  {
   "cell_type": "code",
   "execution_count": null,
   "metadata": {},
   "outputs": [],
   "source": [
    "raw_dataset = pd.read_csv('tcga_skcm.csv')\n",
    "dataset_orig = raw_dataset.copy()\n",
    "\n",
    "dataset=dataset_orig[['Study','immune_subtype','HLA_A_log', 'HLA_B_log', 'HLA_C_log','HLA_E_log', 'HLA_G_log', 'B2M_log','HLA_DRA_log', 'HLA_DRB1_log', 'HLA_DQA1_log', 'HLA_DQB1_log', 'HLA_DPA1_log', 'HLA_DPB1_log', 'HLA_DMA_log', 'HLA_DMB_log', 'HLA_DOA_log', 'HLA_DOB_log']]\n",
    "dataset.replace([np.inf, -np.inf], np.nan, inplace=True)\n",
    "dataset.isna().sum()\n",
    "dataset = dataset.dropna()\n",
    "dataset['immune_subtype']=dataset['immune_subtype'].astype('uint8')"
   ]
  },
  {
   "cell_type": "markdown",
   "metadata": {},
   "source": [
    "# Cross Validation"
   ]
  },
  {
   "cell_type": "code",
   "execution_count": null,
   "metadata": {},
   "outputs": [],
   "source": [
    "c1=[]\n",
    "c2=[]\n",
    "c3=[]\n",
    "c4=[]\n",
    "c5=[]\n",
    "c6=[]\n",
    "micro=[]\n",
    "\n",
    "for i in range(10000):\n",
    "    SKCM_df=dataset[dataset['Study']=='SKCM']\n",
    "    SKCM_train_dataset = SKCM_df.sample(frac=0.6)\n",
    "    SKCM_test_dataset = SKCM_df.drop(SKCM_train_dataset.index)\n",
    "\n",
    "    train_set=SKCM_train_dataset\n",
    "    test_set=SKCM_test_dataset\n",
    "\n",
    "    # exclude Study which is categorical\n",
    "    train_set.pop('Study')\n",
    "    test_set.pop('Study')\n",
    "\n",
    "    train_features = train_set.copy()\n",
    "    test_features = test_set.copy()\n",
    "\n",
    "    train_labels = train_features.pop('immune_subtype')\n",
    "    test_labels = test_features.pop('immune_subtype')\n",
    "\n",
    "    X_train=pd.DataFrame.to_numpy(train_features)\n",
    "    y_train=pd.Series.to_numpy(train_labels)\n",
    "\n",
    "    X_test=pd.DataFrame.to_numpy(test_features)\n",
    "    y_test=pd.Series.to_numpy(test_labels)\n",
    "\n",
    "    clf = RandomForestClassifier(n_estimators=200, max_features=10)\n",
    "    y_score=clf.fit(X_train, y_train).predict_proba(X_test)\n",
    "\n",
    "    if (np.unique(y_train).size == 4):\n",
    "        y_train_bin = label_binarize(y_train, classes=[1,2,3,4])\n",
    "        y_test_bin = label_binarize(y_test, classes=[1,2,3,4,6])\n",
    "        n_classes = 4\n",
    "        fpr = dict()\n",
    "        tpr = dict()\n",
    "        roc_auc = dict()\n",
    "        for i in range(n_classes):\n",
    "            fpr[i], tpr[i], _ = roc_curve(y_test_bin[:, i], y_score[:, i])\n",
    "            roc_auc[i] = auc(fpr[i], tpr[i])\n",
    "\n",
    "        # Compute micro-average ROC curve and ROC area\n",
    "        fpr[\"micro\"], tpr[\"micro\"], _ = roc_curve(y_test_bin[:,0:4].ravel(), y_score[:,0:4].ravel())\n",
    "        roc_auc[\"micro\"] = auc(fpr[\"micro\"], tpr[\"micro\"])\n",
    "\n",
    "        c1.append(roc_auc[0])\n",
    "        c2.append(roc_auc[1])\n",
    "        c3.append(roc_auc[2])\n",
    "        c4.append(roc_auc[3])\n",
    "        micro.append(roc_auc['micro'])\n",
    "\n",
    "    elif (np.unique(y_test).size == 4):\n",
    "        # Compute ROC curve and ROC area for each class\n",
    "        y_train_bin = label_binarize(y_train, classes=[1,2,3,4,6])\n",
    "        y_test_bin = label_binarize(y_test, classes=[1,2,3,4])\n",
    "        n_classes = 4\n",
    "        fpr = dict()\n",
    "        tpr = dict()\n",
    "        roc_auc = dict()\n",
    "        for i in range(n_classes):\n",
    "            fpr[i], tpr[i], _ = roc_curve(y_test_bin[:, i], y_score[:, i])\n",
    "            roc_auc[i] = auc(fpr[i], tpr[i])\n",
    "\n",
    "        # Compute micro-average ROC curve and ROC area\n",
    "        fpr[\"micro\"], tpr[\"micro\"], _ = roc_curve(y_test_bin[:,0:4].ravel(), y_score[:,0:4].ravel())\n",
    "        roc_auc[\"micro\"] = auc(fpr[\"micro\"], tpr[\"micro\"])\n",
    "\n",
    "        c1.append(roc_auc[0])\n",
    "        c2.append(roc_auc[1])\n",
    "        c3.append(roc_auc[2])\n",
    "        c4.append(roc_auc[3])\n",
    "        micro.append(roc_auc['micro'])\n",
    "\n",
    "\n",
    "    else:  \n",
    "        # Compute ROC curve and ROC area for each class\n",
    "        y_train_bin = label_binarize(y_train, classes=[1,2,3,4,6])\n",
    "        y_test_bin = label_binarize(y_test, classes=[1,2,3,4,6])\n",
    "        n_classes = 5\n",
    "        fpr = dict()\n",
    "        tpr = dict()\n",
    "        roc_auc = dict()\n",
    "        for i in range(n_classes):\n",
    "            fpr[i], tpr[i], _ = roc_curve(y_test_bin[:, i], y_score[:, i])\n",
    "            roc_auc[i] = auc(fpr[i], tpr[i])\n",
    "\n",
    "        # Compute micro-average ROC curve and ROC area\n",
    "        fpr[\"micro\"], tpr[\"micro\"], _ = roc_curve(y_test_bin.ravel(), y_score.ravel())\n",
    "        roc_auc[\"micro\"] = auc(fpr[\"micro\"], tpr[\"micro\"])\n",
    "\n",
    "        c1.append(roc_auc[0])\n",
    "        c2.append(roc_auc[1])\n",
    "        c3.append(roc_auc[2])\n",
    "        c4.append(roc_auc[3])\n",
    "        c6.append(roc_auc[4])\n",
    "        micro.append(roc_auc['micro'])\n",
    "\n"
   ]
  },
  {
   "cell_type": "code",
   "execution_count": null,
   "metadata": {},
   "outputs": [],
   "source": [
    "mean_C1=nanmean(c1)\n",
    "mean_C2=nanmean(c2)\n",
    "mean_C3=nanmean(c3)\n",
    "mean_C4=nanmean(c4)\n",
    "mean_C6=nanmean(c6)\n",
    "mean_micro=nanmean(micro)\n",
    "\n",
    "sd_C1=nanstd(c1)\n",
    "sd_C2=nanstd(c2)\n",
    "sd_C3=nanstd(c3)\n",
    "sd_C4=nanstd(c4)\n",
    "sd_C6=nanstd(c6)\n",
    "sd_micro=nanstd(micro)"
   ]
  },
  {
   "cell_type": "code",
   "execution_count": null,
   "metadata": {},
   "outputs": [],
   "source": [
    "mean_roc_auc={1:mean_C1,2:mean_C2,3:mean_C3,4:mean_C4,6:mean_C6,'micro':mean_micro}\n",
    "sd_roc_auc={1:sd_C1,2:sd_C2,3:sd_C3,4:sd_C4,6:sd_C6,'micro':sd_micro}"
   ]
  },
  {
   "cell_type": "markdown",
   "metadata": {},
   "source": [
    "# Immune Subtype Prediction with the Random Forest Classifier"
   ]
  },
  {
   "cell_type": "code",
   "execution_count": null,
   "metadata": {},
   "outputs": [],
   "source": [
    "SKCM_df=dataset[dataset['Study']=='SKCM']\n",
    "SKCM_df.pop('Study')\n",
    "SKCM_train_features = SKCM_df.copy()\n",
    "SKCM_train_labels = SKCM_train_features.pop('immune_subtype')\n",
    "\n",
    "X_train_skcm=pd.DataFrame.to_numpy(SKCM_train_features)\n",
    "y_train_skcm=pd.Series.to_numpy(SKCM_train_labels)"
   ]
  },
  {
   "cell_type": "code",
   "execution_count": null,
   "metadata": {},
   "outputs": [],
   "source": [
    "clf = RandomForestClassifier(n_estimators=200,max_features=10,random_state=1)\n",
    "clf.fit(X_train_skcm, y_train_skcm)"
   ]
  },
  {
   "cell_type": "code",
   "execution_count": null,
   "metadata": {},
   "outputs": [],
   "source": [
    "# predict the immune subtypes of melanoma patients receiving ici treatment\n",
    "ici_dataset = pd.read_csv('ici.csv')\n",
    "\n",
    "ici_dataset=ici_dataset[['HLA_A_log', 'HLA_B_log', 'HLA_C_log','HLA_E_log', 'HLA_G_log', 'B2M_log','HLA_DRA_log', 'HLA_DRB1_log', 'HLA_DQA1_log', 'HLA_DQB1_log', 'HLA_DPA1_log', 'HLA_DPB1_log', 'HLA_DMA_log', 'HLA_DMB_log', 'HLA_DOA_log', 'HLA_DOB_log']]\n",
    "\n",
    "ici_dataset.replace([np.inf, -np.inf], np.nan, inplace=True)\n",
    "ici_dataset.isna().sum()\n",
    "ici_dataset = ici_dataset.dropna()"
   ]
  },
  {
   "cell_type": "code",
   "execution_count": null,
   "metadata": {},
   "outputs": [],
   "source": [
    "features=pd.DataFrame.to_numpy(ici_dataset)"
   ]
  },
  {
   "cell_type": "code",
   "execution_count": null,
   "metadata": {},
   "outputs": [],
   "source": [
    "subtypes=clf.predict(features)"
   ]
  },
  {
   "cell_type": "code",
   "execution_count": null,
   "metadata": {},
   "outputs": [],
   "source": [
    "import csv\n",
    "\n",
    "# open the file in the write mode\n",
    "with open('ImmuneSubtypes_Prediction.csv', 'w', encoding='UTF8') as f:\n",
    "    # create the csv writer\n",
    "    writer = csv.writer(f)\n",
    "\n",
    "    # write a row to the csv file\n",
    "    writer.writerow(subtypes)"
   ]
  }
 ],
 "metadata": {
  "kernelspec": {
   "display_name": "Python 3",
   "language": "python",
   "name": "python3"
  },
  "language_info": {
   "codemirror_mode": {
    "name": "ipython",
    "version": 3
   },
   "file_extension": ".py",
   "mimetype": "text/x-python",
   "name": "python",
   "nbconvert_exporter": "python",
   "pygments_lexer": "ipython3",
   "version": "3.8.1"
  }
 },
 "nbformat": 4,
 "nbformat_minor": 4
}
