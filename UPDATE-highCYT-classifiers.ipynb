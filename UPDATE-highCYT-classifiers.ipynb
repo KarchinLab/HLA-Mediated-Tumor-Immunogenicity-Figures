{
 "cells": [
  {
   "cell_type": "code",
   "execution_count": 1,
   "metadata": {},
   "outputs": [
    {
     "name": "stdout",
     "output_type": "stream",
     "text": [
      "Populating the interactive namespace from numpy and matplotlib\n"
     ]
    }
   ],
   "source": [
    "%pylab inline"
   ]
  },
  {
   "cell_type": "code",
   "execution_count": 2,
   "metadata": {},
   "outputs": [],
   "source": [
    "import numpy as np\n",
    "import matplotlib.pyplot as plt\n",
    "from matplotlib.colors import ListedColormap\n",
    "from sklearn.model_selection import train_test_split\n",
    "from sklearn.neighbors import KNeighborsClassifier\n",
    "from sklearn.svm import SVC\n",
    "from sklearn.gaussian_process import GaussianProcessClassifier\n",
    "from sklearn.gaussian_process.kernels import RBF\n",
    "from sklearn.tree import DecisionTreeClassifier\n",
    "from sklearn.ensemble import RandomForestClassifier, AdaBoostClassifier\n",
    "from sklearn.naive_bayes import GaussianNB\n",
    "from sklearn import datasets, metrics, model_selection, svm\n",
    "from sklearn.linear_model import LogisticRegression\n",
    "from sklearn.metrics import roc_auc_score\n",
    "from sklearn.metrics import roc_curve, auc\n",
    "from sklearn.discriminant_analysis import QuadraticDiscriminantAnalysis,LinearDiscriminantAnalysis"
   ]
  },
  {
   "cell_type": "code",
   "execution_count": 3,
   "metadata": {},
   "outputs": [],
   "source": [
    "import matplotlib.pyplot as plt\n",
    "import numpy as np\n",
    "import pandas as pd\n",
    "import seaborn as sns\n",
    "from  IPython import display\n",
    "import pathlib\n",
    "import shutil\n",
    "import tempfile\n",
    "import sklearn.metrics\n",
    "\n",
    "# Make numpy printouts easier to read.\n",
    "np.set_printoptions(precision=3, suppress=True)"
   ]
  },
  {
   "cell_type": "code",
   "execution_count": 4,
   "metadata": {},
   "outputs": [],
   "source": [
    "raw_dataset = pd.read_csv('path to datafile')\n",
    "dataset_orig = raw_dataset.copy()\n",
    "# dataset_orig.head()"
   ]
  },
  {
   "cell_type": "code",
   "execution_count": 5,
   "metadata": {},
   "outputs": [
    {
     "data": {
      "text/plain": [
       "array(['KIRC', 'LUAD', 'UCEC', 'THCA', 'LUSC', 'PRAD', 'HNSC', 'COAD',\n",
       "       'SKCM', 'BLCA', 'LIHC', 'STAD', 'OV', 'KIRP', 'CESC', 'SARC',\n",
       "       'PAAD', 'READ', 'GBM', 'ESCA', 'TGCT', 'KICH', 'MESO', 'ACC',\n",
       "       'UCS', 'CHOL', 'BRCA', 'PCPG', 'LGG', 'UVM'], dtype=object)"
      ]
     },
     "execution_count": 5,
     "metadata": {},
     "output_type": "execute_result"
    }
   ],
   "source": [
    "# boolean variable highCYT75 identifies if the sample is among the top 25% of CYT\n",
    "dataset=dataset_orig[['Study','highCYT75','HLA_A_log', 'HLA_B_log', 'HLA_C_log','HLA_E_log', 'HLA_G_log', 'B2M_log','HLA_DRA_log', 'HLA_DRB1_log', 'HLA_DQA1_log', 'HLA_DQB1_log', 'HLA_DPA1_log', 'HLA_DPB1_log', 'HLA_DMA_log', 'HLA_DMB_log', 'HLA_DOA_log', 'HLA_DOB_log']]\n",
    "\n",
    "df_study = pd.get_dummies(dataset['Study'])\n",
    "dataset = pd.concat([dataset, df_study], axis=1)\n",
    "dataset.head()\n",
    "\n",
    "dataset.replace([np.inf, -np.inf], np.nan, inplace=True)\n",
    "dataset = dataset.dropna()\n",
    "dataset.shape\n",
    "dataset['highCYT75']=dataset['highCYT75'].astype('uint8')\n",
    "dataset.Study.unique()"
   ]
  },
  {
   "cell_type": "code",
   "execution_count": 6,
   "metadata": {},
   "outputs": [],
   "source": [
    "# random sampling with the same fraction from each tumor type\n",
    "ACC_df=dataset[dataset['Study']=='ACC']\n",
    "ACC_train_dataset = ACC_df.sample(frac=0.6, random_state=0)\n",
    "ACC_test_dataset = ACC_df.drop(ACC_train_dataset.index)\n",
    "\n",
    "BLCA_df=dataset[dataset['Study']=='BLCA']\n",
    "BLCA_train_dataset = BLCA_df.sample(frac=0.6, random_state=0)\n",
    "BLCA_test_dataset = BLCA_df.drop(BLCA_train_dataset.index)\n",
    "\n",
    "BRCA_df=dataset[dataset['Study']=='BRCA']\n",
    "BRCA_train_dataset = BRCA_df.sample(frac=0.6, random_state=0)\n",
    "BRCA_test_dataset = BRCA_df.drop(BRCA_train_dataset.index)\n",
    "\n",
    "CESC_df=dataset[dataset['Study']=='CESC']\n",
    "CESC_train_dataset = CESC_df.sample(frac=0.6, random_state=0)\n",
    "CESC_test_dataset = CESC_df.drop(CESC_train_dataset.index)\n",
    "\n",
    "CHOL_df=dataset[dataset['Study']=='CHOL']\n",
    "CHOL_train_dataset = CHOL_df.sample(frac=0.6, random_state=0)\n",
    "CHOL_test_dataset = CHOL_df.drop(CHOL_train_dataset.index)\n",
    "\n",
    "COAD_df=dataset[dataset['Study']=='COAD']\n",
    "COAD_train_dataset = COAD_df.sample(frac=0.6, random_state=0)\n",
    "COAD_test_dataset = COAD_df.drop(COAD_train_dataset.index)\n",
    "\n",
    "DLBC_df=dataset[dataset['Study']=='DLBC']\n",
    "DLBC_train_dataset = DLBC_df.sample(frac=0.6, random_state=0)\n",
    "DLBC_test_dataset = DLBC_df.drop(DLBC_train_dataset.index)\n",
    "\n",
    "ESCA_df=dataset[dataset['Study']=='ESCA']\n",
    "ESCA_train_dataset = ESCA_df.sample(frac=0.6, random_state=0)\n",
    "ESCA_test_dataset = ESCA_df.drop(ESCA_train_dataset.index)\n",
    "\n",
    "GBM_df=dataset[dataset['Study']=='GBM']\n",
    "GBM_train_dataset = GBM_df.sample(frac=0.6, random_state=0)\n",
    "GBM_test_dataset = GBM_df.drop(GBM_train_dataset.index)\n",
    "\n",
    "HNSC_df=dataset[dataset['Study']=='HNSC']\n",
    "HNSC_train_dataset = HNSC_df.sample(frac=0.6, random_state=0)\n",
    "HNSC_test_dataset = HNSC_df.drop(HNSC_train_dataset.index)\n",
    "\n",
    "KICH_df=dataset[dataset['Study']=='KICH']\n",
    "KICH_train_dataset = KICH_df.sample(frac=0.6, random_state=0)\n",
    "KICH_test_dataset = KICH_df.drop(KICH_train_dataset.index)\n",
    "\n",
    "KIRC_df=dataset[dataset['Study']=='KIRC']\n",
    "KIRC_train_dataset = KIRC_df.sample(frac=0.6, random_state=0)\n",
    "KIRC_test_dataset = KIRC_df.drop(KIRC_train_dataset.index)\n",
    "\n",
    "KIRP_df=dataset[dataset['Study']=='KIRP']\n",
    "KIRP_train_dataset = KIRP_df.sample(frac=0.6, random_state=0)\n",
    "KIRP_test_dataset = KIRP_df.drop(KIRP_train_dataset.index)\n",
    "\n",
    "LGG_df=dataset[dataset['Study']=='LGG']\n",
    "LGG_train_dataset = LGG_df.sample(frac=0.6, random_state=0)\n",
    "LGG_test_dataset = LGG_df.drop(LGG_train_dataset.index)\n",
    "\n",
    "LIHC_df=dataset[dataset['Study']=='LIHC']\n",
    "LIHC_train_dataset = LIHC_df.sample(frac=0.6, random_state=0)\n",
    "LIHC_test_dataset = LIHC_df.drop(LIHC_train_dataset.index)\n",
    "\n",
    "LUAD_df=dataset[dataset['Study']=='LUAD']\n",
    "LUAD_train_dataset = LUAD_df.sample(frac=0.6, random_state=0)\n",
    "LUAD_test_dataset = LUAD_df.drop(LUAD_train_dataset.index)\n",
    "\n",
    "LUSC_df=dataset[dataset['Study']=='LUSC']\n",
    "LUSC_train_dataset = LUSC_df.sample(frac=0.6, random_state=0)\n",
    "LUSC_test_dataset = LUSC_df.drop(LUSC_train_dataset.index)\n",
    "\n",
    "MESO_df=dataset[dataset['Study']=='MESO']\n",
    "MESO_train_dataset = MESO_df.sample(frac=0.6, random_state=0)\n",
    "MESO_test_dataset = MESO_df.drop(MESO_train_dataset.index)\n",
    "\n",
    "OV_df=dataset[dataset['Study']=='OV']\n",
    "OV_train_dataset = OV_df.sample(frac=0.6, random_state=0)\n",
    "OV_test_dataset = OV_df.drop(OV_train_dataset.index)\n",
    "\n",
    "PAAD_df=dataset[dataset['Study']=='PAAD']\n",
    "PAAD_train_dataset = PAAD_df.sample(frac=0.6, random_state=0)\n",
    "PAAD_test_dataset = PAAD_df.drop(PAAD_train_dataset.index)\n",
    "\n",
    "PCPG_df=dataset[dataset['Study']=='PCPG']\n",
    "PCPG_train_dataset = PCPG_df.sample(frac=0.6, random_state=0)\n",
    "PCPG_test_dataset = PCPG_df.drop(PCPG_train_dataset.index)\n",
    "\n",
    "PRAD_df=dataset[dataset['Study']=='PRAD']\n",
    "PRAD_train_dataset = PRAD_df.sample(frac=0.6, random_state=0)\n",
    "PRAD_test_dataset = PRAD_df.drop(PRAD_train_dataset.index)\n",
    "\n",
    "\n",
    "READ_df=dataset[dataset['Study']=='READ']\n",
    "READ_train_dataset = READ_df.sample(frac=0.6, random_state=0)\n",
    "READ_test_dataset = READ_df.drop(READ_train_dataset.index)\n",
    "\n",
    "SARC_df=dataset[dataset['Study']=='SARC']\n",
    "SARC_train_dataset = SARC_df.sample(frac=0.6, random_state=0)\n",
    "SARC_test_dataset = SARC_df.drop(SARC_train_dataset.index)\n",
    "\n",
    "SKCM_df=dataset[dataset['Study']=='SKCM']\n",
    "SKCM_train_dataset = SKCM_df.sample(frac=0.6, random_state=0)\n",
    "SKCM_test_dataset = SKCM_df.drop(SKCM_train_dataset.index)\n",
    "\n",
    "STAD_df=dataset[dataset['Study']=='STAD']\n",
    "STAD_train_dataset = STAD_df.sample(frac=0.6, random_state=0)\n",
    "STAD_test_dataset = STAD_df.drop(STAD_train_dataset.index)\n",
    "\n",
    "TGCT_df=dataset[dataset['Study']=='TGCT']\n",
    "TGCT_train_dataset = TGCT_df.sample(frac=0.6, random_state=0)\n",
    "TGCT_test_dataset = TGCT_df.drop(TGCT_train_dataset.index)\n",
    "\n",
    "THCA_df=dataset[dataset['Study']=='THCA']\n",
    "THCA_train_dataset = THCA_df.sample(frac=0.6, random_state=0)\n",
    "THCA_test_dataset = THCA_df.drop(THCA_train_dataset.index)\n",
    "\n",
    "THYM_df=dataset[dataset['Study']=='THYM']\n",
    "THYM_train_dataset = THYM_df.sample(frac=0.6, random_state=0)\n",
    "THYM_test_dataset = THYM_df.drop(THYM_train_dataset.index)\n",
    "\n",
    "UCEC_df=dataset[dataset['Study']=='UCEC']\n",
    "UCEC_train_dataset = UCEC_df.sample(frac=0.6, random_state=0)\n",
    "UCEC_test_dataset = UCEC_df.drop(UCEC_train_dataset.index)\n",
    "\n",
    "UCS_df=dataset[dataset['Study']=='UCS']\n",
    "UCS_train_dataset = UCS_df.sample(frac=0.6, random_state=0)\n",
    "UCS_test_dataset = UCS_df.drop(UCS_train_dataset.index)\n",
    "\n",
    "UVM_df=dataset[dataset['Study']=='UVM']\n",
    "UVM_train_dataset = UVM_df.sample(frac=0.6, random_state=0)\n",
    "UVM_test_dataset = UVM_df.drop(UVM_train_dataset.index)\n",
    "\n",
    "train_frames=[ACC_train_dataset,BLCA_train_dataset,BRCA_train_dataset,CESC_train_dataset,CHOL_train_dataset,COAD_train_dataset,DLBC_train_dataset,ESCA_train_dataset,GBM_train_dataset,HNSC_train_dataset,KICH_train_dataset,KIRC_train_dataset,KIRP_train_dataset,LGG_train_dataset,LIHC_train_dataset,LUAD_train_dataset,LUSC_train_dataset,MESO_train_dataset,OV_train_dataset,PAAD_train_dataset,PCPG_train_dataset,PRAD_train_dataset,READ_train_dataset,SARC_train_dataset,SKCM_train_dataset,STAD_train_dataset,TGCT_train_dataset,THCA_train_dataset,THYM_train_dataset,UCEC_train_dataset,UCS_train_dataset,UVM_train_dataset]\n",
    "train_set=pd.concat(train_frames)\n",
    "test_frames=[ACC_test_dataset,BLCA_test_dataset,BRCA_test_dataset,CESC_test_dataset,CHOL_test_dataset,COAD_test_dataset,DLBC_test_dataset,ESCA_test_dataset,GBM_test_dataset,HNSC_test_dataset,KICH_test_dataset,KIRC_test_dataset,KIRP_test_dataset,LGG_test_dataset,LIHC_test_dataset,LUAD_test_dataset,LUSC_test_dataset,MESO_test_dataset,OV_test_dataset,PAAD_test_dataset,PCPG_test_dataset,PRAD_test_dataset,READ_test_dataset,SARC_test_dataset,SKCM_test_dataset,STAD_test_dataset,TGCT_test_dataset,THCA_test_dataset,THYM_test_dataset,UCEC_test_dataset,UCS_test_dataset,UVM_test_dataset]\n",
    "test_set=pd.concat(test_frames)"
   ]
  },
  {
   "cell_type": "code",
   "execution_count": 7,
   "metadata": {},
   "outputs": [
    {
     "data": {
      "text/plain": [
       "(5390, 47)"
      ]
     },
     "execution_count": 7,
     "metadata": {},
     "output_type": "execute_result"
    }
   ],
   "source": [
    "# exclude Study which is categorical\n",
    "train_set.pop('Study')\n",
    "test_set.pop('Study')\n",
    "train_set.shape"
   ]
  },
  {
   "cell_type": "code",
   "execution_count": 8,
   "metadata": {},
   "outputs": [],
   "source": [
    "train_features = train_set.copy()\n",
    "test_features = test_set.copy()\n",
    "features=train_features.columns\n",
    "\n",
    "\n",
    "train_labels = train_features.pop('highCYT75')\n",
    "test_labels = test_features.pop('highCYT75')"
   ]
  },
  {
   "cell_type": "code",
   "execution_count": 9,
   "metadata": {},
   "outputs": [],
   "source": [
    "X_train=pd.DataFrame.to_numpy(train_features)\n",
    "y_train=pd.Series.to_numpy(train_labels)\n",
    "\n",
    "X_test=pd.DataFrame.to_numpy(test_features)\n",
    "y_test=pd.Series.to_numpy(test_labels)\n"
   ]
  },
  {
   "cell_type": "code",
   "execution_count": 10,
   "metadata": {},
   "outputs": [],
   "source": [
    "from sklearn.ensemble import RandomForestClassifier\n",
    "clf = RandomForestClassifier(n_estimators=200, criterion='gini')\n",
    "score=clf.fit(X_train, y_train).score(X_test, y_test)\n",
    "pred=clf.fit(X_train, y_train).predict_proba(X_test)"
   ]
  },
  {
   "cell_type": "code",
   "execution_count": 11,
   "metadata": {},
   "outputs": [
    {
     "data": {
      "text/plain": [
       "0.8756260434056762"
      ]
     },
     "execution_count": 11,
     "metadata": {},
     "output_type": "execute_result"
    }
   ],
   "source": [
    "score"
   ]
  },
  {
   "cell_type": "code",
   "execution_count": 12,
   "metadata": {},
   "outputs": [
    {
     "data": {
      "text/plain": [
       "Index(['highCYT75', 'HLA_A_log', 'HLA_B_log', 'HLA_C_log', 'HLA_E_log',\n",
       "       'HLA_G_log', 'B2M_log', 'HLA_DRA_log', 'HLA_DRB1_log', 'HLA_DQA1_log',\n",
       "       'HLA_DQB1_log', 'HLA_DPA1_log', 'HLA_DPB1_log', 'HLA_DMA_log',\n",
       "       'HLA_DMB_log', 'HLA_DOA_log', 'HLA_DOB_log', 'ACC', 'BLCA', 'BRCA',\n",
       "       'CESC', 'CHOL', 'COAD', 'ESCA', 'GBM', 'HNSC', 'KICH', 'KIRC', 'KIRP',\n",
       "       'LGG', 'LIHC', 'LUAD', 'LUSC', 'MESO', 'OV', 'PAAD', 'PCPG', 'PRAD',\n",
       "       'READ', 'SARC', 'SKCM', 'STAD', 'TGCT', 'THCA', 'UCEC', 'UCS', 'UVM'],\n",
       "      dtype='object')"
      ]
     },
     "execution_count": 12,
     "metadata": {},
     "output_type": "execute_result"
    }
   ],
   "source": [
    "features"
   ]
  },
  {
   "cell_type": "code",
   "execution_count": 13,
   "metadata": {},
   "outputs": [
    {
     "data": {
      "image/png": "[encoded data removed]",
      "text/plain": [
       "<Figure size 720x720 with 1 Axes>"
      ]
     },
     "metadata": {
      "needs_background": "light"
     },
     "output_type": "display_data"
    }
   ],
   "source": [
    "# Random forest generate feature importance\n",
    "importances = clf.feature_importances_\n",
    "indices = np.argsort(importances)\n",
    "fig=plt.figure(figsize(10,10))\n",
    "feature_names=['HLA A', 'HLA B', 'HLA C', 'HLA E', 'HLA G', 'B2M',\n",
    "       'HLA DRA', 'HLA DRB1', 'HLA DQA1', 'HLA DQB1',\n",
    "       'HLA DPA1', 'HLA DPB1', 'HLA DMA', 'HLA DMB',\n",
    "       'HLA DOA', 'HLA DOB', 'ACC', 'BLCA', 'BRCA', 'CESC', 'CHOL',\n",
    "       'COAD', 'DLBC', 'ESCA', 'GBM', 'HNSC', 'KICH', 'KIRC', 'KIRP', 'LAML',\n",
    "       'LGG', 'LIHC', 'LUAD', 'LUSC', 'MESO', 'OV', 'PAAD', 'PCPG', 'PRAD',\n",
    "       'READ', 'SARC', 'SKCM', 'STAD', 'TGCT', 'THCA', 'THYM', 'UCEC', 'UCS',\n",
    "       'UVM']\n",
    "\n",
    "title('Feature Importances')\n",
    "barh(range(len(indices)), importances[indices], color='b', align='center')\n",
    "yticks(range(len(indices)), np.array(feature_names)[np.argsort(importances)])\n",
    "xlabel('Relative Importance');\n",
    "# fig.savefig('feature_importance.png')"
   ]
  },
  {
   "cell_type": "code",
   "execution_count": 14,
   "metadata": {},
   "outputs": [],
   "source": [
    "# logistic regression / random forest\n",
    "from sklearn.metrics import roc_curve, auc\n",
    "from sklearn.model_selection import train_test_split\n",
    "from sklearn.preprocessing import label_binarize\n",
    "from sklearn.multiclass import OneVsRestClassifier, OneVsOneClassifier\n",
    "from scipy import interp\n",
    "from sklearn.metrics import roc_auc_score\n",
    "fpr, tpr, thresholds = metrics.roc_curve(y_test, pred[:,1])\n",
    "roc_auc = auc(fpr, tpr)"
   ]
  },
  {
   "cell_type": "code",
   "execution_count": 15,
   "metadata": {},
   "outputs": [
    {
     "data": {
      "image/png": "[encoded data removed]",
      "text/plain": [
       "<Figure size 432x288 with 1 Axes>"
      ]
     },
     "metadata": {
      "needs_background": "light"
     },
     "output_type": "display_data"
    }
   ],
   "source": [
    "fig=plt.figure(figsize(6,4))\n",
    "plt.plot(fpr, tpr, label='High CYT Classification\\nROC curve (AUC = %0.2f)' % roc_auc)\n",
    "plt.plot([0, 1], [0, 1], 'k--')\n",
    "plt.xlim([-0.03, 1.0])\n",
    "plt.ylim([0.0, 1.05])\n",
    "plt.xlabel('False Positive Rate')\n",
    "plt.ylabel('True Positive Rate')\n",
    "#plt.title('Receiver operating characteristic example')\n",
    "plt.legend(loc=\"lower right\")\n",
    "plt.show()\n",
    "\n",
    "# fig.savefig('CYT.png')"
   ]
  }
 ],
 "metadata": {
  "kernelspec": {
   "display_name": "Python 3",
   "language": "python",
   "name": "python3"
  },
  "language_info": {
   "codemirror_mode": {
    "name": "ipython",
    "version": 3
   },
   "file_extension": ".py",
   "mimetype": "text/x-python",
   "name": "python",
   "nbconvert_exporter": "python",
   "pygments_lexer": "ipython3",
   "version": "3.8.5"
  }
 },
 "nbformat": 4,
 "nbformat_minor": 4
}
