{
 "cells": [
  {
   "cell_type": "code",
   "execution_count": 1,
   "metadata": {},
   "outputs": [
    {
     "name": "stdout",
     "output_type": "stream",
     "text": [
      "Populating the interactive namespace from numpy and matplotlib\n"
     ]
    }
   ],
   "source": [
    "%pylab inline"
   ]
  },
  {
   "cell_type": "code",
   "execution_count": 2,
   "metadata": {},
   "outputs": [],
   "source": [
    "import numpy as np\n",
    "import matplotlib.pyplot as plt\n",
    "from matplotlib.colors import ListedColormap\n",
    "from sklearn.model_selection import train_test_split\n",
    "from sklearn.preprocessing import StandardScaler\n",
    "from sklearn.datasets import make_moons, make_circles, make_classification\n",
    "from sklearn.neural_network import MLPClassifier\n",
    "from sklearn.neighbors import KNeighborsClassifier\n",
    "from sklearn.svm import SVC\n",
    "from sklearn.gaussian_process import GaussianProcessClassifier\n",
    "from sklearn.gaussian_process.kernels import RBF\n",
    "from sklearn.tree import DecisionTreeClassifier\n",
    "from sklearn.ensemble import RandomForestClassifier, AdaBoostClassifier\n",
    "from sklearn.naive_bayes import GaussianNB\n",
    "from sklearn import datasets, metrics, model_selection, svm\n",
    "from sklearn.linear_model import LogisticRegression\n",
    "from sklearn.metrics import roc_auc_score\n",
    "from sklearn.discriminant_analysis import QuadraticDiscriminantAnalysis,LinearDiscriminantAnalysis"
   ]
  },
  {
   "cell_type": "code",
   "execution_count": 3,
   "metadata": {},
   "outputs": [],
   "source": [
    "import matplotlib.pyplot as plt\n",
    "import numpy as np\n",
    "import pandas as pd\n",
    "import seaborn as sns\n",
    "from  IPython import display\n",
    "import pathlib\n",
    "import shutil\n",
    "import tempfile\n",
    "import sklearn.metrics\n",
    "\n",
    "# Make numpy printouts easier to read.\n",
    "np.set_printoptions(precision=3, suppress=True)"
   ]
  },
  {
   "cell_type": "code",
   "execution_count": 3,
   "metadata": {},
   "outputs": [
    {
     "data": {
      "text/html": [
       "<div>\n",
       "<style scoped>\n",
       "    .dataframe tbody tr th:only-of-type {\n",
       "        vertical-align: middle;\n",
       "    }\n",
       "\n",
       "    .dataframe tbody tr th {\n",
       "        vertical-align: top;\n",
       "    }\n",
       "\n",
       "    .dataframe thead th {\n",
       "        text-align: right;\n",
       "    }\n",
       "</style>\n",
       "<table border=\"1\" class=\"dataframe\">\n",
       "  <thead>\n",
       "    <tr style=\"text-align: right;\">\n",
       "      <th></th>\n",
       "      <th>Unnamed: 0</th>\n",
       "      <th>X</th>\n",
       "      <th>ParticipantBarcode</th>\n",
       "      <th>Study</th>\n",
       "      <th>leukocyte_fraction</th>\n",
       "      <th>Subclonal_genome_fraction</th>\n",
       "      <th>Stromal_Fraction</th>\n",
       "      <th>mutationrate_silent_per_Mb</th>\n",
       "      <th>mutationrate_nonsilent_per_Mb</th>\n",
       "      <th>numberOfImmunogenicMutation</th>\n",
       "      <th>...</th>\n",
       "      <th>geom_HLAI_N</th>\n",
       "      <th>geom_HLAII_N</th>\n",
       "      <th>geom_HLAI_upregulation</th>\n",
       "      <th>geom_HLAII_upregulation</th>\n",
       "      <th>geom_high_HLAIupreg</th>\n",
       "      <th>geom_high_HLAIIupreg</th>\n",
       "      <th>geom_high_HLAI</th>\n",
       "      <th>geom_high_HLAII</th>\n",
       "      <th>highCYT</th>\n",
       "      <th>evol</th>\n",
       "    </tr>\n",
       "  </thead>\n",
       "  <tbody>\n",
       "    <tr>\n",
       "      <th>0</th>\n",
       "      <td>8</td>\n",
       "      <td>2481</td>\n",
       "      <td>TCGA-A3-3383</td>\n",
       "      <td>KIRC</td>\n",
       "      <td>0.156970</td>\n",
       "      <td>0.00</td>\n",
       "      <td>0.36</td>\n",
       "      <td>0.412523</td>\n",
       "      <td>1.182565</td>\n",
       "      <td>20.0</td>\n",
       "      <td>...</td>\n",
       "      <td>NaN</td>\n",
       "      <td>NaN</td>\n",
       "      <td>NaN</td>\n",
       "      <td>NaN</td>\n",
       "      <td>NaN</td>\n",
       "      <td>NaN</td>\n",
       "      <td>True</td>\n",
       "      <td>True</td>\n",
       "      <td>True</td>\n",
       "      <td>True</td>\n",
       "    </tr>\n",
       "    <tr>\n",
       "      <th>1</th>\n",
       "      <td>9</td>\n",
       "      <td>2514</td>\n",
       "      <td>TCGA-B0-4691</td>\n",
       "      <td>KIRC</td>\n",
       "      <td>0.286511</td>\n",
       "      <td>NaN</td>\n",
       "      <td>NaN</td>\n",
       "      <td>NaN</td>\n",
       "      <td>NaN</td>\n",
       "      <td>NaN</td>\n",
       "      <td>...</td>\n",
       "      <td>NaN</td>\n",
       "      <td>NaN</td>\n",
       "      <td>NaN</td>\n",
       "      <td>NaN</td>\n",
       "      <td>NaN</td>\n",
       "      <td>NaN</td>\n",
       "      <td>True</td>\n",
       "      <td>True</td>\n",
       "      <td>True</td>\n",
       "      <td>True</td>\n",
       "    </tr>\n",
       "    <tr>\n",
       "      <th>2</th>\n",
       "      <td>10</td>\n",
       "      <td>2515</td>\n",
       "      <td>TCGA-B0-4706</td>\n",
       "      <td>KIRC</td>\n",
       "      <td>0.132438</td>\n",
       "      <td>0.00</td>\n",
       "      <td>0.36</td>\n",
       "      <td>0.246845</td>\n",
       "      <td>1.042234</td>\n",
       "      <td>21.0</td>\n",
       "      <td>...</td>\n",
       "      <td>NaN</td>\n",
       "      <td>NaN</td>\n",
       "      <td>NaN</td>\n",
       "      <td>NaN</td>\n",
       "      <td>NaN</td>\n",
       "      <td>NaN</td>\n",
       "      <td>True</td>\n",
       "      <td>False</td>\n",
       "      <td>True</td>\n",
       "      <td>True</td>\n",
       "    </tr>\n",
       "    <tr>\n",
       "      <th>3</th>\n",
       "      <td>11</td>\n",
       "      <td>2532</td>\n",
       "      <td>TCGA-BP-4763</td>\n",
       "      <td>KIRC</td>\n",
       "      <td>0.262396</td>\n",
       "      <td>NaN</td>\n",
       "      <td>NaN</td>\n",
       "      <td>NaN</td>\n",
       "      <td>NaN</td>\n",
       "      <td>NaN</td>\n",
       "      <td>...</td>\n",
       "      <td>NaN</td>\n",
       "      <td>NaN</td>\n",
       "      <td>NaN</td>\n",
       "      <td>NaN</td>\n",
       "      <td>NaN</td>\n",
       "      <td>NaN</td>\n",
       "      <td>True</td>\n",
       "      <td>True</td>\n",
       "      <td>True</td>\n",
       "      <td>True</td>\n",
       "    </tr>\n",
       "    <tr>\n",
       "      <th>4</th>\n",
       "      <td>12</td>\n",
       "      <td>2533</td>\n",
       "      <td>TCGA-BP-5169</td>\n",
       "      <td>KIRC</td>\n",
       "      <td>0.560206</td>\n",
       "      <td>0.91</td>\n",
       "      <td>0.55</td>\n",
       "      <td>0.360657</td>\n",
       "      <td>1.303915</td>\n",
       "      <td>15.0</td>\n",
       "      <td>...</td>\n",
       "      <td>NaN</td>\n",
       "      <td>NaN</td>\n",
       "      <td>NaN</td>\n",
       "      <td>NaN</td>\n",
       "      <td>NaN</td>\n",
       "      <td>NaN</td>\n",
       "      <td>True</td>\n",
       "      <td>True</td>\n",
       "      <td>True</td>\n",
       "      <td>True</td>\n",
       "    </tr>\n",
       "  </tbody>\n",
       "</table>\n",
       "<p>5 rows × 358 columns</p>\n",
       "</div>"
      ],
      "text/plain": [
       "   Unnamed: 0     X ParticipantBarcode Study  leukocyte_fraction  \\\n",
       "0           8  2481       TCGA-A3-3383  KIRC            0.156970   \n",
       "1           9  2514       TCGA-B0-4691  KIRC            0.286511   \n",
       "2          10  2515       TCGA-B0-4706  KIRC            0.132438   \n",
       "3          11  2532       TCGA-BP-4763  KIRC            0.262396   \n",
       "4          12  2533       TCGA-BP-5169  KIRC            0.560206   \n",
       "\n",
       "   Subclonal_genome_fraction  Stromal_Fraction  mutationrate_silent_per_Mb  \\\n",
       "0                       0.00              0.36                    0.412523   \n",
       "1                        NaN               NaN                         NaN   \n",
       "2                       0.00              0.36                    0.246845   \n",
       "3                        NaN               NaN                         NaN   \n",
       "4                       0.91              0.55                    0.360657   \n",
       "\n",
       "   mutationrate_nonsilent_per_Mb  numberOfImmunogenicMutation  ...  \\\n",
       "0                       1.182565                         20.0  ...   \n",
       "1                            NaN                          NaN  ...   \n",
       "2                       1.042234                         21.0  ...   \n",
       "3                            NaN                          NaN  ...   \n",
       "4                       1.303915                         15.0  ...   \n",
       "\n",
       "   geom_HLAI_N  geom_HLAII_N  geom_HLAI_upregulation geom_HLAII_upregulation  \\\n",
       "0          NaN           NaN                     NaN                     NaN   \n",
       "1          NaN           NaN                     NaN                     NaN   \n",
       "2          NaN           NaN                     NaN                     NaN   \n",
       "3          NaN           NaN                     NaN                     NaN   \n",
       "4          NaN           NaN                     NaN                     NaN   \n",
       "\n",
       "  geom_high_HLAIupreg geom_high_HLAIIupreg geom_high_HLAI geom_high_HLAII  \\\n",
       "0                 NaN                  NaN           True            True   \n",
       "1                 NaN                  NaN           True            True   \n",
       "2                 NaN                  NaN           True           False   \n",
       "3                 NaN                  NaN           True            True   \n",
       "4                 NaN                  NaN           True            True   \n",
       "\n",
       "   highCYT  evol  \n",
       "0     True  True  \n",
       "1     True  True  \n",
       "2     True  True  \n",
       "3     True  True  \n",
       "4     True  True  \n",
       "\n",
       "[5 rows x 358 columns]"
      ]
     },
     "execution_count": 3,
     "metadata": {},
     "output_type": "execute_result"
    }
   ],
   "source": [
    "raw_dataset = pd.read_csv('/Users/katana/PycharmProjects/RNA-Seq/RNA_HED_met/immunogenic_immuneLandscape.csv')\n",
    "\n",
    "dataset_orig = raw_dataset.copy()\n",
    "dataset_orig.head()"
   ]
  },
  {
   "cell_type": "code",
   "execution_count": 4,
   "metadata": {},
   "outputs": [
    {
     "data": {
      "text/plain": [
       "array(['KIRC', 'LUAD', 'UCEC', 'THCA', 'LUSC', 'PRAD', 'HNSC', 'COAD',\n",
       "       'BLCA', 'LIHC', 'STAD', 'KIRP', 'CESC', 'SARC', 'PCPG', 'PAAD',\n",
       "       'READ', 'ESCA', 'CHOL', 'BRCA'], dtype=object)"
      ]
     },
     "execution_count": 4,
     "metadata": {},
     "output_type": "execute_result"
    }
   ],
   "source": [
    "dataset=dataset_orig[['evol', 'Study','tumor_methyl_A_alt', 'tumor_methyl_B_alt', 'tumor_methyl_C_alt', 'normal_methyl_A_alt', 'normal_methyl_B_alt', 'normal_methyl_C_alt']]\n",
    "df_study = pd.get_dummies(dataset['Study'])\n",
    "# print(df_study)\n",
    "dataset = pd.concat([dataset, df_study], axis=1)\n",
    "dataset.head()\n",
    "\n",
    "dataset.isna().sum()\n",
    "dataset = dataset.dropna()\n",
    "dataset.shape\n",
    "dataset['evol']=dataset['evol'].astype('uint8')\n",
    "dataset.Study.unique()"
   ]
  },
  {
   "cell_type": "code",
   "execution_count": 69,
   "metadata": {},
   "outputs": [
    {
     "data": {
      "text/plain": [
       "(273, 36)"
      ]
     },
     "execution_count": 69,
     "metadata": {},
     "output_type": "execute_result"
    }
   ],
   "source": [
    "random_state = np.random.RandomState()\n",
    "#X_train, X_test, y_train, y_test = train_test_split(X, y, test_size=0.40, random_state=random_state)\n",
    "    \n",
    "train_set = dataset.sample(frac=0.6, random_state=random_state)\n",
    "test_set = dataset.drop(train_set.index)\n",
    "train_set.pop('Study')\n",
    "test_set.pop('Study')\n",
    "train_set.shape"
   ]
  },
  {
   "cell_type": "code",
   "execution_count": 70,
   "metadata": {},
   "outputs": [
    {
     "data": {
      "text/plain": [
       "1       KIRC\n",
       "2       KIRC\n",
       "4       KIRC\n",
       "6       KIRC\n",
       "8       KIRC\n",
       "        ... \n",
       "4932    BRCA\n",
       "4942    BRCA\n",
       "4960    BRCA\n",
       "4969    BRCA\n",
       "4983    BRCA\n",
       "Name: Study, Length: 455, dtype: object"
      ]
     },
     "execution_count": 70,
     "metadata": {},
     "output_type": "execute_result"
    }
   ],
   "source": [
    "random_state = np.random.RandomState(42)\n",
    "frac=0.8      # or 0.4\n",
    "ACC_df=dataset[dataset['Study']=='ACC']\n",
    "ACC_train_dataset = ACC_df.sample(frac=frac, random_state=random_state)\n",
    "ACC_test_dataset = ACC_df.drop(ACC_train_dataset.index)\n",
    "\n",
    "BLCA_df=dataset[dataset['Study']=='BLCA']\n",
    "BLCA_train_dataset = BLCA_df.sample(frac=frac, random_state=random_state)\n",
    "BLCA_test_dataset = BLCA_df.drop(BLCA_train_dataset.index)\n",
    "\n",
    "BRCA_df=dataset[dataset['Study']=='BRCA']\n",
    "BRCA_train_dataset = BRCA_df.sample(frac=frac, random_state=random_state)\n",
    "BRCA_test_dataset = BRCA_df.drop(BRCA_train_dataset.index)\n",
    "\n",
    "CESC_df=dataset[dataset['Study']=='CESC']\n",
    "CESC_train_dataset = CESC_df.sample(frac=frac, random_state=random_state)\n",
    "CESC_test_dataset = CESC_df.drop(CESC_train_dataset.index)\n",
    "\n",
    "CHOL_df=dataset[dataset['Study']=='CHOL']\n",
    "CHOL_train_dataset = CHOL_df.sample(frac=frac, random_state=random_state)\n",
    "CHOL_test_dataset = CHOL_df.drop(CHOL_train_dataset.index)\n",
    "\n",
    "COAD_df=dataset[dataset['Study']=='COAD']\n",
    "COAD_train_dataset = COAD_df.sample(frac=frac, random_state=random_state)\n",
    "COAD_test_dataset = COAD_df.drop(COAD_train_dataset.index)\n",
    "\n",
    "DLBC_df=dataset[dataset['Study']=='DLBC']\n",
    "DLBC_train_dataset = DLBC_df.sample(frac=frac, random_state=random_state)\n",
    "DLBC_test_dataset = DLBC_df.drop(DLBC_train_dataset.index)\n",
    "\n",
    "ESCA_df=dataset[dataset['Study']=='ESCA']\n",
    "ESCA_train_dataset = ESCA_df.sample(frac=frac, random_state=random_state)\n",
    "ESCA_test_dataset = ESCA_df.drop(ESCA_train_dataset.index)\n",
    "\n",
    "GBM_df=dataset[dataset['Study']=='GBM']\n",
    "GBM_train_dataset = GBM_df.sample(frac=frac, random_state=random_state)\n",
    "GBM_test_dataset = GBM_df.drop(GBM_train_dataset.index)\n",
    "\n",
    "HNSC_df=dataset[dataset['Study']=='HNSC']\n",
    "HNSC_train_dataset = HNSC_df.sample(frac=frac, random_state=random_state)\n",
    "HNSC_test_dataset = HNSC_df.drop(HNSC_train_dataset.index)\n",
    "\n",
    "KICH_df=dataset[dataset['Study']=='KICH']\n",
    "KICH_train_dataset = KICH_df.sample(frac=frac, random_state=random_state)\n",
    "KICH_test_dataset = KICH_df.drop(KICH_train_dataset.index)\n",
    "\n",
    "KIRC_df=dataset[dataset['Study']=='KIRC']\n",
    "KIRC_train_dataset = KIRC_df.sample(frac=frac, random_state=random_state)\n",
    "KIRC_test_dataset = KIRC_df.drop(KIRC_train_dataset.index)\n",
    "\n",
    "KIRP_df=dataset[dataset['Study']=='KIRP']\n",
    "KIRP_train_dataset = KIRP_df.sample(frac=frac, random_state=random_state)\n",
    "KIRP_test_dataset = KIRP_df.drop(KIRP_train_dataset.index)\n",
    "\n",
    "LGG_df=dataset[dataset['Study']=='LGG']\n",
    "LGG_train_dataset = LGG_df.sample(frac=frac, random_state=random_state)\n",
    "LGG_test_dataset = LGG_df.drop(LGG_train_dataset.index)\n",
    "\n",
    "LIHC_df=dataset[dataset['Study']=='LIHC']\n",
    "LIHC_train_dataset = LIHC_df.sample(frac=frac, random_state=random_state)\n",
    "LIHC_test_dataset = LIHC_df.drop(LIHC_train_dataset.index)\n",
    "\n",
    "LUAD_df=dataset[dataset['Study']=='LUAD']\n",
    "LUAD_train_dataset = LUAD_df.sample(frac=frac, random_state=random_state)\n",
    "LUAD_test_dataset = LUAD_df.drop(LUAD_train_dataset.index)\n",
    "\n",
    "LUSC_df=dataset[dataset['Study']=='LUSC']\n",
    "LUSC_train_dataset = LUSC_df.sample(frac=frac, random_state=random_state)\n",
    "LUSC_test_dataset = LUSC_df.drop(LUSC_train_dataset.index)\n",
    "\n",
    "MESO_df=dataset[dataset['Study']=='MESO']\n",
    "MESO_train_dataset = MESO_df.sample(frac=frac, random_state=random_state)\n",
    "MESO_test_dataset = MESO_df.drop(MESO_train_dataset.index)\n",
    "\n",
    "OV_df=dataset[dataset['Study']=='OV']\n",
    "OV_train_dataset = OV_df.sample(frac=frac, random_state=random_state)\n",
    "OV_test_dataset = OV_df.drop(OV_train_dataset.index)\n",
    "\n",
    "PAAD_df=dataset[dataset['Study']=='PAAD']\n",
    "PAAD_train_dataset = PAAD_df.sample(frac=frac, random_state=random_state)\n",
    "PAAD_test_dataset = PAAD_df.drop(PAAD_train_dataset.index)\n",
    "\n",
    "PCPG_df=dataset[dataset['Study']=='PCPG']\n",
    "PCPG_train_dataset = PCPG_df.sample(frac=frac, random_state=random_state)\n",
    "PCPG_test_dataset = PCPG_df.drop(PCPG_train_dataset.index)\n",
    "\n",
    "PRAD_df=dataset[dataset['Study']=='PRAD']\n",
    "PRAD_train_dataset = PRAD_df.sample(frac=frac, random_state=random_state)\n",
    "PRAD_test_dataset = PRAD_df.drop(PRAD_train_dataset.index)\n",
    "\n",
    "\n",
    "READ_df=dataset[dataset['Study']=='READ']\n",
    "READ_train_dataset = READ_df.sample(frac=frac, random_state=random_state)\n",
    "READ_test_dataset = READ_df.drop(READ_train_dataset.index)\n",
    "\n",
    "SARC_df=dataset[dataset['Study']=='SARC']\n",
    "SARC_train_dataset = SARC_df.sample(frac=frac, random_state=random_state)\n",
    "SARC_test_dataset = SARC_df.drop(SARC_train_dataset.index)\n",
    "\n",
    "SKCM_df=dataset[dataset['Study']=='SKCM']\n",
    "SKCM_train_dataset = SKCM_df.sample(frac=frac, random_state=random_state)\n",
    "SKCM_test_dataset = SKCM_df.drop(SKCM_train_dataset.index)\n",
    "\n",
    "STAD_df=dataset[dataset['Study']=='STAD']\n",
    "STAD_train_dataset = STAD_df.sample(frac=frac, random_state=random_state)\n",
    "STAD_test_dataset = STAD_df.drop(STAD_train_dataset.index)\n",
    "\n",
    "TGCT_df=dataset[dataset['Study']=='TGCT']\n",
    "TGCT_train_dataset = TGCT_df.sample(frac=frac, random_state=random_state)\n",
    "TGCT_test_dataset = TGCT_df.drop(TGCT_train_dataset.index)\n",
    "\n",
    "THCA_df=dataset[dataset['Study']=='THCA']\n",
    "THCA_train_dataset = THCA_df.sample(frac=frac, random_state=random_state)\n",
    "THCA_test_dataset = THCA_df.drop(THCA_train_dataset.index)\n",
    "\n",
    "THYM_df=dataset[dataset['Study']=='THYM']\n",
    "THYM_train_dataset = THYM_df.sample(frac=frac, random_state=random_state)\n",
    "THYM_test_dataset = THYM_df.drop(THYM_train_dataset.index)\n",
    "\n",
    "UCEC_df=dataset[dataset['Study']=='UCEC']\n",
    "UCEC_train_dataset = UCEC_df.sample(frac=frac, random_state=random_state)\n",
    "UCEC_test_dataset = UCEC_df.drop(UCEC_train_dataset.index)\n",
    "\n",
    "UCS_df=dataset[dataset['Study']=='UCS']\n",
    "UCS_train_dataset = UCS_df.sample(frac=frac, random_state=random_state)\n",
    "UCS_test_dataset = UCS_df.drop(UCS_train_dataset.index)\n",
    "\n",
    "UVM_df=dataset[dataset['Study']=='UVM']\n",
    "UVM_train_dataset = UVM_df.sample(frac=frac, random_state=random_state)\n",
    "UVM_test_dataset = UVM_df.drop(UVM_train_dataset.index)\n",
    "\n",
    "train_frames=[ACC_train_dataset,BLCA_train_dataset,BRCA_train_dataset,CESC_train_dataset,CHOL_train_dataset,COAD_train_dataset,DLBC_train_dataset,ESCA_train_dataset,GBM_train_dataset,HNSC_train_dataset,KICH_train_dataset,KIRC_train_dataset,KIRP_train_dataset,LGG_train_dataset,LIHC_train_dataset,LUAD_train_dataset,LUSC_train_dataset,MESO_train_dataset,OV_train_dataset,PAAD_train_dataset,PCPG_train_dataset,PRAD_train_dataset,READ_train_dataset,SARC_train_dataset,SKCM_train_dataset,STAD_train_dataset,TGCT_train_dataset,THCA_train_dataset,THYM_train_dataset,UCEC_train_dataset,UCS_train_dataset,UVM_train_dataset]\n",
    "train_set=pd.concat(train_frames)\n",
    "test_frames=[ACC_test_dataset,BLCA_test_dataset,BRCA_test_dataset,CESC_test_dataset,CHOL_test_dataset,COAD_test_dataset,DLBC_test_dataset,ESCA_test_dataset,GBM_test_dataset,HNSC_test_dataset,KICH_test_dataset,KIRC_test_dataset,KIRP_test_dataset,LGG_test_dataset,LIHC_test_dataset,LUAD_test_dataset,LUSC_test_dataset,MESO_test_dataset,OV_test_dataset,PAAD_test_dataset,PCPG_test_dataset,PRAD_test_dataset,READ_test_dataset,SARC_test_dataset,SKCM_test_dataset,STAD_test_dataset,TGCT_test_dataset,THCA_test_dataset,THYM_test_dataset,UCEC_test_dataset,UCS_test_dataset,UVM_test_dataset]\n",
    "test_set=pd.concat(test_frames)\n",
    "\n",
    "# exclude Study which is categorical\n",
    "dataset.pop('Study')\n"
   ]
  },
  {
   "cell_type": "code",
   "execution_count": 71,
   "metadata": {},
   "outputs": [
    {
     "data": {
      "text/plain": [
       "(365, 36)"
      ]
     },
     "execution_count": 71,
     "metadata": {},
     "output_type": "execute_result"
    }
   ],
   "source": [
    "# exclude Study which is categorical\n",
    "train_set.pop('Study')\n",
    "test_set.pop('Study')\n",
    "train_set.shape"
   ]
  },
  {
   "cell_type": "code",
   "execution_count": null,
   "metadata": {},
   "outputs": [],
   "source": []
  },
  {
   "cell_type": "code",
   "execution_count": 72,
   "metadata": {},
   "outputs": [],
   "source": [
    "train_features = train_set.copy()\n",
    "test_features = test_set.copy()\n",
    "\n",
    "train_labels = train_features.pop('evol')\n",
    "test_labels = test_features.pop('evol')"
   ]
  },
  {
   "cell_type": "code",
   "execution_count": 73,
   "metadata": {},
   "outputs": [],
   "source": [
    "feature_names=list(train_features.columns)"
   ]
  },
  {
   "cell_type": "code",
   "execution_count": null,
   "metadata": {},
   "outputs": [],
   "source": [
    "\n"
   ]
  },
  {
   "cell_type": "code",
   "execution_count": 74,
   "metadata": {},
   "outputs": [],
   "source": [
    "X_train=pd.DataFrame.to_numpy(train_features)\n",
    "y_train=pd.Series.to_numpy(train_labels)\n",
    "\n",
    "X_test=pd.DataFrame.to_numpy(test_features)\n",
    "y_test=pd.Series.to_numpy(test_labels)"
   ]
  },
  {
   "cell_type": "code",
   "execution_count": 75,
   "metadata": {},
   "outputs": [
    {
     "data": {
      "text/plain": [
       "0.8111111111111111"
      ]
     },
     "execution_count": 75,
     "metadata": {},
     "output_type": "execute_result"
    }
   ],
   "source": [
    "clf = DecisionTreeClassifier(max_depth=5)\n",
    "clf.fit(X_train, y_train).score(X_test, y_test)"
   ]
  },
  {
   "cell_type": "code",
   "execution_count": 76,
   "metadata": {},
   "outputs": [
    {
     "name": "stderr",
     "output_type": "stream",
     "text": [
      "/Users/katana/opt/anaconda3/lib/python3.8/site-packages/sklearn/discriminant_analysis.py:715: UserWarning: Variables are collinear\n",
      "  warnings.warn(\"Variables are collinear\")\n"
     ]
    },
    {
     "data": {
      "text/plain": [
       "0.8666666666666667"
      ]
     },
     "execution_count": 76,
     "metadata": {},
     "output_type": "execute_result"
    }
   ],
   "source": [
    "clf = QuadraticDiscriminantAnalysis()\n",
    "clf.fit(X_train, y_train).score(X_test, y_test)"
   ]
  },
  {
   "cell_type": "code",
   "execution_count": 110,
   "metadata": {},
   "outputs": [],
   "source": [
    "clf = LinearDiscriminantAnalysis()\n",
    "clf.fit(X_train, y_train).score(X_test, y_test)\n",
    "pred=clf.fit(X_train, y_train).predict_proba(X_test)"
   ]
  },
  {
   "cell_type": "code",
   "execution_count": 78,
   "metadata": {},
   "outputs": [
    {
     "data": {
      "text/plain": [
       "0.8555555555555555"
      ]
     },
     "execution_count": 78,
     "metadata": {},
     "output_type": "execute_result"
    }
   ],
   "source": [
    "clf = RandomForestClassifier(n_estimators=200)\n",
    "clf.fit(X_train, y_train).score(X_test, y_test)"
   ]
  },
  {
   "cell_type": "code",
   "execution_count": 79,
   "metadata": {},
   "outputs": [
    {
     "data": {
      "image/png": "[encoded data removed]",
      "text/plain": [
       "<Figure size 1440x1440 with 1 Axes>"
      ]
     },
     "metadata": {
      "needs_background": "light"
     },
     "output_type": "display_data"
    }
   ],
   "source": [
    "# Random forest generate feature importance\n",
    "importances = clf.feature_importances_\n",
    "indices = np.argsort(importances)\n",
    "fig=figure(figsize=(20,20))\n",
    "\n",
    "title('Feature Importances')\n",
    "barh(range(len(indices)), importances[indices], color='b', align='center')\n",
    "yticks(range(len(indices)), np.array(feature_names)[np.argsort(importances)])\n",
    "xlabel('Relative Importance');\n",
    "\n",
    "\n",
    "fig.savefig('plot.png')"
   ]
  },
  {
   "cell_type": "code",
   "execution_count": 80,
   "metadata": {},
   "outputs": [
    {
     "data": {
      "text/plain": [
       "0.3333333333333333"
      ]
     },
     "execution_count": 80,
     "metadata": {},
     "output_type": "execute_result"
    }
   ],
   "source": [
    "sum(y_test == 1) / y_test.size"
   ]
  },
  {
   "cell_type": "code",
   "execution_count": 81,
   "metadata": {},
   "outputs": [
    {
     "data": {
      "text/plain": [
       "0.8666666666666667"
      ]
     },
     "execution_count": 81,
     "metadata": {},
     "output_type": "execute_result"
    }
   ],
   "source": [
    "clf = GaussianNB()\n",
    "clf.fit(X_train, y_train).score(X_test, y_test)"
   ]
  },
  {
   "cell_type": "code",
   "execution_count": 84,
   "metadata": {},
   "outputs": [
    {
     "data": {
      "text/plain": [
       "0.8888888888888888"
      ]
     },
     "execution_count": 84,
     "metadata": {},
     "output_type": "execute_result"
    }
   ],
   "source": [
    "clf = LogisticRegression(solver=\"liblinear\", random_state=0)\n",
    "clf.fit(X_train, y_train).score(X_test, y_test)"
   ]
  },
  {
   "cell_type": "code",
   "execution_count": 94,
   "metadata": {},
   "outputs": [],
   "source": [
    "clf = LogisticRegression(solver=\"liblinear\", random_state=0)\n",
    "pred=clf.fit(X_train, y_train).predict_proba(X_test)"
   ]
  },
  {
   "cell_type": "code",
   "execution_count": 100,
   "metadata": {},
   "outputs": [
    {
     "data": {
      "text/plain": [
       "array([0.69 , 0.714, 0.59 , 0.626, 0.616, 0.624, 0.647, 0.64 , 0.644,\n",
       "       0.623, 0.619, 0.613, 0.62 , 0.219, 0.669, 0.775, 0.912, 0.894,\n",
       "       0.909, 0.895, 0.902, 0.913, 0.916, 0.077, 0.069, 0.077, 0.075,\n",
       "       0.071, 0.075, 0.077, 0.07 , 0.075, 0.076, 0.065, 0.065, 0.071,\n",
       "       0.071, 0.065, 0.074, 0.071, 0.072, 0.076, 0.072, 0.072, 0.073,\n",
       "       0.076, 0.074, 0.076, 0.077, 0.066, 0.069, 0.072, 0.077, 0.081,\n",
       "       0.081, 0.086, 0.083, 0.076, 0.073, 0.209, 0.201, 0.196, 0.204,\n",
       "       0.198, 0.412, 0.402, 0.883, 0.881, 0.884, 0.877, 0.072, 0.072,\n",
       "       0.069, 0.066, 0.07 , 0.077, 0.083, 0.105, 0.12 , 0.106, 0.101,\n",
       "       0.112, 0.097, 0.111, 0.111, 0.109, 0.113, 0.105, 0.705, 0.736])"
      ]
     },
     "execution_count": 100,
     "metadata": {},
     "output_type": "execute_result"
    }
   ],
   "source": [
    "pred[:,1]"
   ]
  },
  {
   "cell_type": "code",
   "execution_count": 111,
   "metadata": {},
   "outputs": [],
   "source": [
    "from sklearn.metrics import roc_curve, auc\n",
    "from sklearn.model_selection import train_test_split\n",
    "from sklearn.preprocessing import label_binarize\n",
    "from sklearn.multiclass import OneVsRestClassifier, OneVsOneClassifier\n",
    "from scipy import interp\n",
    "from sklearn.metrics import roc_auc_score\n",
    "fpr, tpr, thresholds = metrics.roc_curve(y_test, pred[:,1])\n",
    "roc_auc = auc(fpr, tpr)"
   ]
  },
  {
   "cell_type": "code",
   "execution_count": 124,
   "metadata": {},
   "outputs": [
    {
     "data": {
      "image/png": "[encoded data removed]",
      "text/plain": [
       "<Figure size 432x288 with 1 Axes>"
      ]
     },
     "metadata": {
      "needs_background": "light"
     },
     "output_type": "display_data"
    }
   ],
   "source": [
    "fig=plt.figure()\n",
    "plt.plot(fpr, tpr, label='ROC curve (AUC = %0.2f)' % roc_auc)\n",
    "plt.plot([0, 1], [0, 1], 'k--')\n",
    "plt.xlim([-0.03, 1.0])\n",
    "plt.ylim([0.0, 1.05])\n",
    "plt.xlabel('False Positive Rate')\n",
    "plt.ylabel('True Positive Rate')\n",
    "#plt.title('Receiver operating characteristic example')\n",
    "plt.legend(loc=\"lower right\")\n",
    "plt.show()\n",
    "\n",
    "fig.savefig('evol.png')"
   ]
  },
  {
   "cell_type": "code",
   "execution_count": 115,
   "metadata": {},
   "outputs": [
    {
     "data": {
      "text/plain": [
       "<Figure size 432x288 with 0 Axes>"
      ]
     },
     "metadata": {},
     "output_type": "display_data"
    },
    {
     "data": {
      "image/png": "[encoded data removed]",
      "text/plain": [
       "<Figure size 432x288 with 1 Axes>"
      ]
     },
     "metadata": {
      "needs_background": "light"
     },
     "output_type": "display_data"
    },
    {
     "data": {
      "text/plain": [
       "<Figure size 432x288 with 0 Axes>"
      ]
     },
     "metadata": {},
     "output_type": "display_data"
    }
   ],
   "source": [
    "# LDA\n",
    "fig=plt.figure()\n",
    "clf.fit(X_train, y_train)\n",
    "metrics.plot_roc_curve(clf, X_test, y_test)  \n",
    "plt.show()  \n"
   ]
  },
  {
   "cell_type": "code",
   "execution_count": 18,
   "metadata": {},
   "outputs": [
    {
     "data": {
      "text/plain": [
       "7"
      ]
     },
     "execution_count": 18,
     "metadata": {},
     "output_type": "execute_result"
    }
   ],
   "source": [
    "predictions=clf.fit(X_train, y_train).predict_proba(X_test)\n",
    "\n",
    "pred = -1 * np.ones(len(y_test))\n",
    "for i in range(len(y_test)):\n",
    "    pred[i] = predictions[i][y_test[i]]\n",
    "sum(pred < 0.5)"
   ]
  },
  {
   "cell_type": "code",
   "execution_count": 19,
   "metadata": {},
   "outputs": [
    {
     "data": {
      "text/plain": [
       "array([0.398, 0.964, 0.978, 0.996, 0.853, 0.772, 0.913, 0.693, 1.   ,\n",
       "       0.617, 0.672, 0.654, 0.485, 0.432, 0.978, 0.486, 0.742, 0.511,\n",
       "       0.971, 0.985, 0.995, 0.988, 0.984, 0.987, 0.026, 0.013, 0.046,\n",
       "       0.848, 0.008, 0.   , 0.011, 0.   , 0.058, 0.023, 0.005, 0.003,\n",
       "       0.004, 0.017, 0.02 , 0.036, 0.019, 0.399, 0.015, 0.001, 0.182,\n",
       "       0.06 , 0.049, 0.815, 0.109, 0.69 , 0.275, 0.468, 0.085, 0.021,\n",
       "       0.915, 0.738, 0.996, 0.046, 0.032, 0.027, 0.02 , 0.021, 0.019,\n",
       "       0.073, 0.965, 0.61 , 0.764, 0.009, 0.009, 0.024, 0.031, 0.03 ,\n",
       "       0.182, 0.016, 0.04 , 0.104, 0.046, 0.168, 0.874])"
      ]
     },
     "execution_count": 19,
     "metadata": {},
     "output_type": "execute_result"
    }
   ],
   "source": [
    "clf.predict_proba(X_test)[:, 1]"
   ]
  },
  {
   "cell_type": "code",
   "execution_count": 20,
   "metadata": {},
   "outputs": [
    {
     "data": {
      "text/plain": [
       "array([[0.602, 0.398],\n",
       "       [0.036, 0.964],\n",
       "       [0.022, 0.978],\n",
       "       [0.004, 0.996],\n",
       "       [0.147, 0.853],\n",
       "       [0.228, 0.772],\n",
       "       [0.087, 0.913],\n",
       "       [0.307, 0.693],\n",
       "       [0.   , 1.   ],\n",
       "       [0.383, 0.617],\n",
       "       [0.328, 0.672],\n",
       "       [0.346, 0.654],\n",
       "       [0.515, 0.485],\n",
       "       [0.568, 0.432],\n",
       "       [0.022, 0.978],\n",
       "       [0.514, 0.486],\n",
       "       [0.258, 0.742],\n",
       "       [0.489, 0.511],\n",
       "       [0.029, 0.971],\n",
       "       [0.015, 0.985],\n",
       "       [0.005, 0.995],\n",
       "       [0.012, 0.988],\n",
       "       [0.016, 0.984],\n",
       "       [0.013, 0.987],\n",
       "       [0.974, 0.026],\n",
       "       [0.987, 0.013],\n",
       "       [0.954, 0.046],\n",
       "       [0.152, 0.848],\n",
       "       [0.992, 0.008],\n",
       "       [1.   , 0.   ],\n",
       "       [0.989, 0.011],\n",
       "       [1.   , 0.   ],\n",
       "       [0.942, 0.058],\n",
       "       [0.977, 0.023],\n",
       "       [0.995, 0.005],\n",
       "       [0.997, 0.003],\n",
       "       [0.996, 0.004],\n",
       "       [0.983, 0.017],\n",
       "       [0.98 , 0.02 ],\n",
       "       [0.964, 0.036],\n",
       "       [0.981, 0.019],\n",
       "       [0.601, 0.399],\n",
       "       [0.985, 0.015],\n",
       "       [0.999, 0.001],\n",
       "       [0.818, 0.182],\n",
       "       [0.94 , 0.06 ],\n",
       "       [0.951, 0.049],\n",
       "       [0.185, 0.815],\n",
       "       [0.891, 0.109],\n",
       "       [0.31 , 0.69 ],\n",
       "       [0.725, 0.275],\n",
       "       [0.532, 0.468],\n",
       "       [0.915, 0.085],\n",
       "       [0.979, 0.021],\n",
       "       [0.085, 0.915],\n",
       "       [0.262, 0.738],\n",
       "       [0.004, 0.996],\n",
       "       [0.954, 0.046],\n",
       "       [0.968, 0.032],\n",
       "       [0.973, 0.027],\n",
       "       [0.98 , 0.02 ],\n",
       "       [0.979, 0.021],\n",
       "       [0.981, 0.019],\n",
       "       [0.927, 0.073],\n",
       "       [0.035, 0.965],\n",
       "       [0.39 , 0.61 ],\n",
       "       [0.236, 0.764],\n",
       "       [0.991, 0.009],\n",
       "       [0.991, 0.009],\n",
       "       [0.976, 0.024],\n",
       "       [0.969, 0.031],\n",
       "       [0.97 , 0.03 ],\n",
       "       [0.818, 0.182],\n",
       "       [0.984, 0.016],\n",
       "       [0.96 , 0.04 ],\n",
       "       [0.896, 0.104],\n",
       "       [0.954, 0.046],\n",
       "       [0.832, 0.168],\n",
       "       [0.126, 0.874]])"
      ]
     },
     "execution_count": 20,
     "metadata": {},
     "output_type": "execute_result"
    }
   ],
   "source": [
    "clf.predict_proba(X_test)"
   ]
  },
  {
   "cell_type": "code",
   "execution_count": 21,
   "metadata": {},
   "outputs": [
    {
     "data": {
      "text/plain": [
       "0.9406896551724139"
      ]
     },
     "execution_count": 21,
     "metadata": {},
     "output_type": "execute_result"
    }
   ],
   "source": [
    "roc_auc_score(y_test, clf.predict_proba(X_test)[:, 1])"
   ]
  },
  {
   "cell_type": "code",
   "execution_count": 22,
   "metadata": {},
   "outputs": [
    {
     "data": {
      "image/png": "[encoded data removed]",
      "text/plain": [
       "<Figure size 432x288 with 1 Axes>"
      ]
     },
     "metadata": {
      "needs_background": "light"
     },
     "output_type": "display_data"
    }
   ],
   "source": [
    "fpr, tpr, thresholds = metrics.roc_curve(y_test, pred)\n",
    "roc_auc = metrics.auc(fpr, tpr)\n",
    "display = metrics.RocCurveDisplay(fpr=fpr, tpr=tpr, roc_auc=roc_auc,                                          estimator_name='example estimator')\n",
    "display.plot()  \n",
    "plt.show()   "
   ]
  },
  {
   "cell_type": "code",
   "execution_count": 23,
   "metadata": {},
   "outputs": [
    {
     "ename": "NameError",
     "evalue": "name 'prob' is not defined",
     "output_type": "error",
     "traceback": [
      "\u001b[0;31m---------------------------------------------------------------------------\u001b[0m",
      "\u001b[0;31mNameError\u001b[0m                                 Traceback (most recent call last)",
      "\u001b[0;32m<ipython-input-23-2c7ca9d2e8f6>\u001b[0m in \u001b[0;36m<module>\u001b[0;34m\u001b[0m\n\u001b[1;32m      2\u001b[0m \u001b[0;34m\u001b[0m\u001b[0m\n\u001b[1;32m      3\u001b[0m \u001b[0mns_fpr\u001b[0m\u001b[0;34m,\u001b[0m \u001b[0mns_tpr\u001b[0m\u001b[0;34m,\u001b[0m \u001b[0m_\u001b[0m \u001b[0;34m=\u001b[0m \u001b[0msklearn\u001b[0m\u001b[0;34m.\u001b[0m\u001b[0mmetrics\u001b[0m\u001b[0;34m.\u001b[0m\u001b[0mroc_curve\u001b[0m\u001b[0;34m(\u001b[0m\u001b[0my_test\u001b[0m\u001b[0;34m,\u001b[0m \u001b[0mns_probs\u001b[0m\u001b[0;34m)\u001b[0m\u001b[0;34m\u001b[0m\u001b[0;34m\u001b[0m\u001b[0m\n\u001b[0;32m----> 4\u001b[0;31m \u001b[0mlr_fpr\u001b[0m\u001b[0;34m,\u001b[0m \u001b[0mlr_tpr\u001b[0m\u001b[0;34m,\u001b[0m \u001b[0m_\u001b[0m \u001b[0;34m=\u001b[0m \u001b[0msklearn\u001b[0m\u001b[0;34m.\u001b[0m\u001b[0mmetrics\u001b[0m\u001b[0;34m.\u001b[0m\u001b[0mroc_curve\u001b[0m\u001b[0;34m(\u001b[0m\u001b[0my_test\u001b[0m\u001b[0;34m,\u001b[0m \u001b[0mprob\u001b[0m\u001b[0;34m)\u001b[0m\u001b[0;34m\u001b[0m\u001b[0;34m\u001b[0m\u001b[0m\n\u001b[0m\u001b[1;32m      5\u001b[0m \u001b[0;31m# plot the roc curve for the model\u001b[0m\u001b[0;34m\u001b[0m\u001b[0;34m\u001b[0m\u001b[0;34m\u001b[0m\u001b[0m\n\u001b[1;32m      6\u001b[0m \u001b[0mplt\u001b[0m\u001b[0;34m.\u001b[0m\u001b[0mplot\u001b[0m\u001b[0;34m(\u001b[0m\u001b[0mns_fpr\u001b[0m\u001b[0;34m,\u001b[0m \u001b[0mns_tpr\u001b[0m\u001b[0;34m,\u001b[0m \u001b[0mlinestyle\u001b[0m\u001b[0;34m=\u001b[0m\u001b[0;34m'--'\u001b[0m\u001b[0;34m,\u001b[0m \u001b[0mlabel\u001b[0m\u001b[0;34m=\u001b[0m\u001b[0;34m'No Skill'\u001b[0m\u001b[0;34m)\u001b[0m\u001b[0;34m\u001b[0m\u001b[0;34m\u001b[0m\u001b[0m\n",
      "\u001b[0;31mNameError\u001b[0m: name 'prob' is not defined"
     ]
    }
   ],
   "source": [
    "ns_probs = [0 for _ in range(len(y_test))]\n",
    "\n",
    "ns_fpr, ns_tpr, _ = sklearn.metrics.roc_curve(y_test, ns_probs)\n",
    "lr_fpr, lr_tpr, _ = sklearn.metrics.roc_curve(y_test, prob)\n",
    "# plot the roc curve for the model\n",
    "plt.plot(ns_fpr, ns_tpr, linestyle='--', label='No Skill')\n",
    "plt.plot(lr_fpr, lr_tpr, marker='.', label='Logistic')\n",
    "# axis labels\n",
    "plt.xlabel('False Positive Rate')\n",
    "plt.ylabel('True Positive Rate')\n",
    "# show the legend\n",
    "plt.legend()\n",
    "\n",
    "ns_auc = sklearn.metrics.roc_auc_score(y_test, ns_probs)\n",
    "lr_auc = sklearn.metrics.roc_auc_score(y_test, prob)\n",
    "print('No Skill: ROC AUC=%.3f' % (ns_auc))\n",
    "print('Logistic: ROC AUC=%.3f' % (lr_auc))"
   ]
  },
  {
   "cell_type": "code",
   "execution_count": null,
   "metadata": {},
   "outputs": [],
   "source": [
    "y_test"
   ]
  },
  {
   "cell_type": "code",
   "execution_count": null,
   "metadata": {},
   "outputs": [],
   "source": [
    "clf = KNeighborsClassifier(5)\n",
    "clf.fit(X_train, y_train).predict(X_test)"
   ]
  },
  {
   "cell_type": "code",
   "execution_count": null,
   "metadata": {},
   "outputs": [],
   "source": [
    "# overfitting\n",
    "test_loss, test_acc = model.evaluate(test_features_arr,  test_labels_arr, verbose=2)\n",
    "\n",
    "print('\\nTest accuracy:', test_acc)"
   ]
  },
  {
   "cell_type": "code",
   "execution_count": null,
   "metadata": {},
   "outputs": [],
   "source": [
    "probability_model = tf.keras.Sequential([model, \n",
    "                                         tf.keras.layers.Softmax()])"
   ]
  },
  {
   "cell_type": "code",
   "execution_count": null,
   "metadata": {},
   "outputs": [],
   "source": [
    "predictions = probability_model.predict(test_features_arr)"
   ]
  },
  {
   "cell_type": "code",
   "execution_count": null,
   "metadata": {},
   "outputs": [],
   "source": [
    "predictions[0][0]"
   ]
  },
  {
   "cell_type": "code",
   "execution_count": null,
   "metadata": {},
   "outputs": [],
   "source": [
    "test_labels_arr[0]"
   ]
  },
  {
   "cell_type": "code",
   "execution_count": null,
   "metadata": {},
   "outputs": [],
   "source": [
    "prob = -1 * np.ones(len(test_labels_arr))\n",
    "for i in range(len(test_labels_arr)):\n",
    "    prob[i] = predictions[i][test_labels_arr[i]]\n",
    "prob"
   ]
  },
  {
   "cell_type": "code",
   "execution_count": null,
   "metadata": {},
   "outputs": [],
   "source": [
    "tf.keras.metrics.AUC(\n",
    "    num_thresholds=200, curve='ROC',\n",
    "    summation_method='interpolation', name=None, dtype=None,\n",
    "    thresholds=None, multi_label=False, label_weights=None\n",
    ")"
   ]
  },
  {
   "cell_type": "code",
   "execution_count": null,
   "metadata": {},
   "outputs": [],
   "source": [
    "ns_probs = [0 for _ in range(len(test_labels_arr))]\n",
    "\n",
    "ns_fpr, ns_tpr, _ = sklearn.metrics.roc_curve(test_labels_arr, ns_probs)\n",
    "lr_fpr, lr_tpr, _ = sklearn.metrics.roc_curve(test_labels_arr, prob)\n",
    "# plot the roc curve for the model\n",
    "plt.plot(ns_fpr, ns_tpr, linestyle='--', label='No Skill')\n",
    "plt.plot(lr_fpr, lr_tpr, marker='.', label='Logistic')\n",
    "# axis labels\n",
    "plt.xlabel('False Positive Rate')\n",
    "plt.ylabel('True Positive Rate')\n",
    "# show the legend\n",
    "plt.legend()\n",
    "\n",
    "ns_auc = sklearn.metrics.roc_auc_score(test_labels_arr, ns_probs)\n",
    "lr_auc = sklearn.metrics.roc_auc_score(test_labels_arr, prob)\n",
    "print('No Skill: ROC AUC=%.3f' % (ns_auc))\n",
    "print('Logistic: ROC AUC=%.3f' % (lr_auc))"
   ]
  },
  {
   "cell_type": "code",
   "execution_count": null,
   "metadata": {},
   "outputs": [],
   "source": []
  }
 ],
 "metadata": {
  "kernelspec": {
   "display_name": "Python 3",
   "language": "python",
   "name": "python3"
  },
  "language_info": {
   "codemirror_mode": {
    "name": "ipython",
    "version": 3
   },
   "file_extension": ".py",
   "mimetype": "text/x-python",
   "name": "python",
   "nbconvert_exporter": "python",
   "pygments_lexer": "ipython3",
   "version": "3.8.5"
  }
 },
 "nbformat": 4,
 "nbformat_minor": 4
}
